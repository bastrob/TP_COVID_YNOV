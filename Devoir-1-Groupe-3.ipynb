{
 "cells": [
  {
   "cell_type": "markdown",
   "metadata": {},
   "source": [
    "# Projet de groupe 1\n",
    "\n",
    "BOUSQUIE Johan (préparation et la structuration des données)\n",
    "\n",
    "ROBERT Bastien (récolte des données)\n",
    "\n",
    "ROBERT Simon (Analyse et Visualisation des données) \n",
    "\n",
    "SORBY Franck (Analyse et visualisation des données)\n",
    "\n",
    "\n",
    "# Projet de groupe 1 : Récolte de données sur la pandémie du Covid-19\n",
    "\n",
    "\n",
    "## Introduction\n",
    "\n",
    "L'objectif de ce projet était de récolter, structurer et analyser des données en relation avec la pandémie de Covid 19. \n",
    "\n",
    "Avec cet objectif, nous avons donc décidé d'orienter notre analyse autour des problématiques suivantes: \n",
    "\n",
    "* Le facteur humain a-t-il un impact sur l’évolution du covid ? \n",
    "* L’opinion et le comportement des gens ont-ils un impact sur l’évolution du COVID ? \n",
    "* Existe-t-il un lien entre le ressenti des gens et l’évolution de la pandémie ? \n",
    "\n",
    "## Partie 1: Récolte des données\n",
    "\n",
    "\n",
    "Afin de répondre à nos problématiques, un ensemble de données doivent être récoltées. \n",
    "\n",
    "Dans un premier temps, nous allons récolter l'ensemble des données relatives à l'évolution de l'épidémie en France, départements par départements. \n",
    "\n",
    "Ensuite il nous fallait récolter un ensemble de réactions afin d'évaluer l'impact moral de la pandémie.\n"
   ]
  },
  {
   "cell_type": "markdown",
   "metadata": {},
   "source": [
    "### Scrapping évolution Covid 19\n",
    "Récupération des données libres (voir licence dans script coronaviusAPI_france) du gouvernement par le biais d'une API. Les données étaient accessibles par département depuis le début du premier confinement\n",
    "\n",
    "\n",
    "\n",
    "\n",
    "### Scrapping Twitter\n",
    "\n",
    "\n",
    "\n",
    "\n",
    "A compléter"
   ]
  },
  {
   "cell_type": "markdown",
   "metadata": {},
   "source": [
    "## Partie 2: Analyse des données\n",
    "\n",
    "\n",
    "A compléter"
   ]
  },
  {
   "cell_type": "code",
   "execution_count": null,
   "metadata": {},
   "outputs": [],
   "source": []
  },
  {
   "cell_type": "code",
   "execution_count": null,
   "metadata": {},
   "outputs": [],
   "source": []
  }
 ],
 "metadata": {
  "kernelspec": {
   "display_name": "Python 3",
   "language": "python",
   "name": "python3"
  },
  "language_info": {
   "codemirror_mode": {
    "name": "ipython",
    "version": 3
   },
   "file_extension": ".py",
   "mimetype": "text/x-python",
   "name": "python",
   "nbconvert_exporter": "python",
   "pygments_lexer": "ipython3",
   "version": "3.6.12"
  }
 },
 "nbformat": 4,
 "nbformat_minor": 4
}
